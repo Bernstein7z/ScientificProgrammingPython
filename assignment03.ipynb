{
  "nbformat": 4,
  "nbformat_minor": 0,
  "metadata": {
    "colab": {
      "name": "Untitled0.ipynb",
      "provenance": [],
      "collapsed_sections": [],
      "authorship_tag": "ABX9TyPdRCaEqg5OLziwkJ2vCDc6",
      "include_colab_link": true
    },
    "kernelspec": {
      "name": "python3",
      "display_name": "Python 3"
    }
  },
  "cells": [
    {
      "cell_type": "markdown",
      "metadata": {
        "id": "view-in-github",
        "colab_type": "text"
      },
      "source": [
        "<a href=\"https://colab.research.google.com/github/Bernstein7z/ScientificProgrammingPython/blob/main/assignment03.ipynb\" target=\"_parent\"><img src=\"https://colab.research.google.com/assets/colab-badge.svg\" alt=\"Open In Colab\"/></a>"
      ]
    },
    {
      "cell_type": "markdown",
      "metadata": {
        "id": "D-e0AAatHUrd"
      },
      "source": [
        "# <center>Scientific Programming with Python\n",
        "# <center>Assignment 2\n",
        "---"
      ]
    },
    {
      "cell_type": "markdown",
      "metadata": {
        "id": "yxSEol5VIxFJ"
      },
      "source": [
        "## Task 1"
      ]
    },
    {
      "cell_type": "markdown",
      "metadata": {
        "id": "ZQcrsSMnJJLw"
      },
      "source": [
        "The improvede python code for calculating Lennard-Jons function is shown below:\n"
      ]
    },
    {
      "cell_type": "code",
      "metadata": {
        "id": "f3gFMUN5HMLf"
      },
      "source": [
        "def lennard_jons(r: float, e: float, s: float) -> float:\n",
        "    \"\"\"Calculate 6-12 Lennard-Jons function\n",
        "\n",
        "    The function calculates the Lennard-Jons function value\n",
        "    for given arguments.\n",
        "\n",
        "    Args:\n",
        "        r: distance between two argon particel in Angstrom\n",
        "        e: negative of the potential energy at the equilibrium bond length in eV\n",
        "        s: the separation distance where the potential energy is zero in Angstrom\n",
        "\n",
        "    Returns:\n",
        "        A float value representing the calculated potential energy in J\n",
        "    \"\"\"\n",
        "\n",
        "    pe_eV = 4 * e * ((s / r)**12 - (s / r)**6)\n",
        "    return pe_eV * 1.60218e-19"
      ],
      "execution_count": 2,
      "outputs": []
    },
    {
      "cell_type": "markdown",
      "metadata": {
        "id": "lGF7xDaEy0-A"
      },
      "source": [
        "## Task 2"
      ]
    },
    {
      "cell_type": "markdown",
      "metadata": {
        "id": "_4b0WcvHy6c_"
      },
      "source": [
        "### 2.1"
      ]
    },
    {
      "cell_type": "code",
      "metadata": {
        "id": "DAVrnhFHy9xj"
      },
      "source": [
        "argon_epsilon = 0.0103\n",
        "argon_sigma = 3.40\n",
        "argon_distances = [3.0, 3.4, 3.8, 4.2, 4.6, 5.0]"
      ],
      "execution_count": 3,
      "outputs": []
    },
    {
      "cell_type": "code",
      "metadata": {
        "id": "VmYlunEUzXF6"
      },
      "source": [
        "calculated_energies = [lennard_jons(x, argon_epsilon, argon_sigma) for x in argon_distances]"
      ],
      "execution_count": 4,
      "outputs": []
    },
    {
      "cell_type": "markdown",
      "metadata": {
        "id": "kKgom5SS3P8D"
      },
      "source": [
        "### 2.2"
      ]
    },
    {
      "cell_type": "code",
      "metadata": {
        "id": "YdIoO0iE3RlA",
        "colab": {
          "base_uri": "https://localhost:8080/"
        },
        "outputId": "80ee96fb-c258-49f7-c43b-f0d05e2ad1bf"
      },
      "source": [
        "minimum = min(calculated_energies)\n",
        "min_index = calculated_energies.index(minimum)\n",
        "\n",
        "print(f\"The lowest energy value of {minimum} J appears at the distance of {argon_distances[min_index]} Å\")"
      ],
      "execution_count": 5,
      "outputs": [
        {
          "output_type": "stream",
          "text": [
            "The lowest energy value of -1.6491187456456383e-21 J appears at the distance of 3.8 Å\n"
          ],
          "name": "stdout"
        }
      ]
    },
    {
      "cell_type": "markdown",
      "metadata": {
        "id": "wqhQVWb95vq8"
      },
      "source": [
        "### 2.3"
      ]
    },
    {
      "cell_type": "code",
      "metadata": {
        "id": "4tXcGAuO5xHb",
        "colab": {
          "base_uri": "https://localhost:8080/"
        },
        "outputId": "b2d4825a-07b3-4fef-8add-73ae03502bfb"
      },
      "source": [
        "import numpy as np\n",
        "\n",
        "for i in range(0, len(argon_distances)):\n",
        "    #solution from https://stackoverflow.com/a/61753635\n",
        "    print(f\"distance: {argon_distances[i]} Å, potential energy: {np.format_float_scientific(calculated_energies[i], precision = 1)} J\")"
      ],
      "execution_count": 6,
      "outputs": [
        {
          "output_type": "stream",
          "text": [
            "distance: 3.0 Å, potential energy: 1.6e-20 J\n",
            "distance: 3.4 Å, potential energy: 0.e+00 J\n",
            "distance: 3.8 Å, potential energy: -1.6e-21 J\n",
            "distance: 4.2 Å, potential energy: -1.3e-21 J\n",
            "distance: 4.6 Å, potential energy: -9.0e-22 J\n",
            "distance: 5.0 Å, potential energy: -5.9e-22 J\n"
          ],
          "name": "stdout"
        }
      ]
    }
  ]
}