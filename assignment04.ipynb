{
  "nbformat": 4,
  "nbformat_minor": 0,
  "metadata": {
    "colab": {
      "name": "Untitled0.ipynb",
      "private_outputs": true,
      "provenance": [],
      "toc_visible": true,
      "authorship_tag": "ABX9TyOu++BQnpkvgKKNBYSA/+9S",
      "include_colab_link": true
    },
    "kernelspec": {
      "name": "python3",
      "display_name": "Python 3"
    }
  },
  "cells": [
    {
      "cell_type": "markdown",
      "metadata": {
        "id": "view-in-github",
        "colab_type": "text"
      },
      "source": [
        "<a href=\"https://colab.research.google.com/github/Bernstein7z/ScientificProgrammingPython/blob/main/assignment04.ipynb\" target=\"_parent\"><img src=\"https://colab.research.google.com/assets/colab-badge.svg\" alt=\"Open In Colab\"/></a>"
      ]
    },
    {
      "cell_type": "code",
      "metadata": {
        "id": "7I9kKQY352zw"
      },
      "source": [
        "import csv"
      ],
      "execution_count": null,
      "outputs": []
    },
    {
      "cell_type": "code",
      "metadata": {
        "id": "Jvz6RpN77CNy"
      },
      "source": [
        "# import csv and read\n",
        "# the csv file should be in same directory as this jupyter notebook!\n",
        "\n",
        "data = []\n",
        "with open('lego_sets.csv', newline='') as csv_file:\n",
        "    reader = csv.reader(csv_file, delimiter=',')\n",
        "    for row in reader:\n",
        "        data.append(row)\n",
        "\n",
        "# remove csv header from data list\n",
        "_ = data.pop(0)\n"
      ],
      "execution_count": null,
      "outputs": []
    },
    {
      "cell_type": "code",
      "metadata": {
        "id": "Gd6wJc3oBMx_"
      },
      "source": [
        "# find all unique numbers of pieces\n",
        "\n",
        "unique_lego_pieces = []\n",
        "for entry in data:\n",
        "    unique_lego_pieces.append(entry[4])\n",
        "\n",
        "unique_lego_pieces = list(set(unique_lego_pieces))\n"
      ],
      "execution_count": null,
      "outputs": []
    },
    {
      "cell_type": "code",
      "metadata": {
        "id": "eRTvf5PGB9vu"
      },
      "source": [
        "# calculate and report the amount of unique number of pieces\n",
        "\n",
        "print('There are {0} total unique pieces.'.format(len(unique_lego_pieces)))\n"
      ],
      "execution_count": null,
      "outputs": []
    },
    {
      "cell_type": "code",
      "metadata": {
        "id": "yeKVshROFsCy"
      },
      "source": [
        "# calculate and report the maximum number of pieces\n",
        "\n",
        "print('The maximum number of pieces: {0}'.format(max(unique_lego_pieces)))\n",
        "\n",
        "# calculate and report the minimum number of pieces\n",
        "\n",
        "print('The minimum number of pieces: {0}'.format(min(unique_lego_pieces)))\n"
      ],
      "execution_count": null,
      "outputs": []
    },
    {
      "cell_type": "code",
      "metadata": {
        "id": "YAGp3qbFIgFq"
      },
      "source": [
        "# calculate the average number of pieces\n",
        "\n",
        "int_numbers = map(int, unique_lego_pieces)\n",
        "average_number_pieces = sum(int_numbers) / len(unique_lego_pieces)\n",
        "\n",
        "print('The average number of pieces is: {0}'.format(round(average_number_pieces, 2)))\n"
      ],
      "execution_count": null,
      "outputs": []
    },
    {
      "cell_type": "code",
      "metadata": {
        "id": "mO3LOEq6KOGB"
      },
      "source": [
        "# get the lego names with piece number greater equal 1000 and\n",
        "# save the names and number of pieces in a csv file.\n",
        "\n",
        "filtered_data = filter(lambda x : int(x[4]) >= 1000, data)\n",
        "\n",
        "with open('names.csv', 'w', newline='') as csv_file:\n",
        "    writer = csv.writer(csv_file, delimiter=',')\n",
        "    \n",
        "    writer.writerow(['name', 'num_parts'])\n",
        "    for entry in filtered_data:\n",
        "        writer.writerow([entry[1], entry[4]])\n"
      ],
      "execution_count": null,
      "outputs": []
    }
  ]
}