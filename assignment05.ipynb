{
  "nbformat": 4,
  "nbformat_minor": 0,
  "metadata": {
    "colab": {
      "name": "Untitled1.ipynb",
      "private_outputs": true,
      "provenance": [],
      "authorship_tag": "ABX9TyMnlyi0P+t7qkGjJvMYqES8",
      "include_colab_link": true
    },
    "kernelspec": {
      "name": "python3",
      "display_name": "Python 3"
    }
  },
  "cells": [
    {
      "cell_type": "markdown",
      "metadata": {
        "id": "view-in-github",
        "colab_type": "text"
      },
      "source": [
        "<a href=\"https://colab.research.google.com/github/Bernstein7z/ScientificProgrammingPython/blob/main/assignment05.ipynb\" target=\"_parent\"><img src=\"https://colab.research.google.com/assets/colab-badge.svg\" alt=\"Open In Colab\"/></a>"
      ]
    },
    {
      "cell_type": "code",
      "metadata": {
        "id": "h7909r7H6SrG"
      },
      "source": [
        "#import math"
      ],
      "execution_count": null,
      "outputs": []
    },
    {
      "cell_type": "code",
      "metadata": {
        "id": "4qhZteNsnvPC"
      },
      "source": [
        "def binomial_pmf(diceType: int) -> float:\n",
        "    ''' binomial probability mass function\n",
        "       \n",
        "        Args:\n",
        "            face: The rolling int number showing on the dice face\n",
        "            diceType: A int number representing the dice type\n",
        "        \n",
        "        Returns:\n",
        "            The calculated probability as a float number\n",
        "\n",
        "    '''\n",
        "    result = []\n",
        "\n",
        "    p = 1 / diceType    # assumed a fair dice\n",
        "    q = 1 - p           # probability complement\n",
        "    n = 3\n",
        "    binomial_coefficient = [3, 3, 1]\n",
        "\n",
        "    for i in range(3):\n",
        "        probability = binomial_coefficient[i] * math.pow(p, (i+1)) * \\\n",
        "                        math.pow(q, n-(i+1))\n",
        "        result.append(round(probability*100, 2))\n",
        "\n",
        "    return result\n"
      ],
      "execution_count": null,
      "outputs": []
    },
    {
      "cell_type": "code",
      "metadata": {
        "id": "k6JL-gUo6ILs"
      },
      "source": [
        "d4 = binomial_pmf(4)\n",
        "d6 = binomial_pmf(6)\n",
        "d8 = binomial_pmf(8)\n",
        "d12 = binomial_pmf(12)\n",
        "d20 = binomial_pmf(20)"
      ],
      "execution_count": null,
      "outputs": []
    },
    {
      "cell_type": "code",
      "metadata": {
        "id": "IFBhQTp8G_m4"
      },
      "source": [
        "print(d4)"
      ],
      "execution_count": null,
      "outputs": []
    }
  ]
}