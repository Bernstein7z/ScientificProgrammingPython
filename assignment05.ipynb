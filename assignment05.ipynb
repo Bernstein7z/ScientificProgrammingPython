{
  "nbformat": 4,
  "nbformat_minor": 0,
  "metadata": {
    "colab": {
      "name": "Untitled1.ipynb",
      "private_outputs": true,
      "provenance": [],
      "authorship_tag": "ABX9TyPyfeE6JHKBa2mjLtjiIl5l",
      "include_colab_link": true
    },
    "kernelspec": {
      "name": "python3",
      "display_name": "Python 3"
    }
  },
  "cells": [
    {
      "cell_type": "markdown",
      "metadata": {
        "id": "view-in-github",
        "colab_type": "text"
      },
      "source": [
        "<a href=\"https://colab.research.google.com/github/Bernstein7z/ScientificProgrammingPython/blob/main/assignment05.ipynb\" target=\"_parent\"><img src=\"https://colab.research.google.com/assets/colab-badge.svg\" alt=\"Open In Colab\"/></a>"
      ]
    },
    {
      "cell_type": "code",
      "metadata": {
        "id": "BFlxBWg9RWUB"
      },
      "source": [
        "import math"
      ],
      "execution_count": null,
      "outputs": []
    },
    {
      "cell_type": "code",
      "metadata": {
        "id": "4qhZteNsnvPC"
      },
      "source": [
        "def binomial_pmf(diceType: int) -> list:\n",
        "    ''' binomial probability mass function\n",
        "\n",
        "        This function calculates the probability of obtaining the same number\n",
        "        from 3 dice rolls when using different sided dice.\n",
        "       \n",
        "        Args:\n",
        "            diceType: A int number representing the dice type\n",
        "        \n",
        "        Returns:\n",
        "            The calculated probabilities as a list\n",
        "    '''\n",
        "\n",
        "    results = []\n",
        "\n",
        "    p = 1 / diceType    # assumed a fair dice\n",
        "    q = 1 - p           # probability of the complement\n",
        "    n = 3               # fix number of attempts\n",
        "\n",
        "    # calculated binomial coefficient as a lookup table\n",
        "    binomial_coefficient = [3, 3, 1]\n",
        "\n",
        "    for i in range(3):\n",
        "        probability = binomial_coefficient[i] * math.pow(p, (i+1)) * \\\n",
        "                        math.pow(q, n-(i+1))\n",
        "        results.append(round(probability*100, 2))\n",
        "\n",
        "    return results\n"
      ],
      "execution_count": null,
      "outputs": []
    },
    {
      "cell_type": "code",
      "metadata": {
        "id": "4qKmnmiZclc_"
      },
      "source": [
        "# calculating the probs and add the dice type at the begining of each list\n",
        "\n",
        "data = []\n",
        "\n",
        "for i in [4, 6, 8, 12, 20]:\n",
        "    probabilities = [f'D{i}']\n",
        "    probabilities.extend(binomial_pmf(i))\n",
        "    data.append(probabilities)\n",
        "    "
      ],
      "execution_count": null,
      "outputs": []
    },
    {
      "cell_type": "code",
      "metadata": {
        "id": "uhEsu0rpUa9l"
      },
      "source": [
        "# printing like pandas\n",
        "\n",
        "header = ['Dice Type', '1. Attempt', '2. Attempt', '3. Attempt']\n",
        "print('---- Probability percentage for each dice types in each attempt ----\\n')\n",
        "print (\"{:<15} {:<15} {:<15} {:<15}\".format(*header))\n",
        "for row in data:\n",
        "    print (\"{:<15} {:<15} {:<15} {:<15}\".format(*row))"
      ],
      "execution_count": null,
      "outputs": []
    }
  ]
}