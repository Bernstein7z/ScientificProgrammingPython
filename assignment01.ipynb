{
  "nbformat": 4,
  "nbformat_minor": 0,
  "metadata": {
    "colab": {
      "name": "Untitled0.ipynb",
      "provenance": [],
      "private_outputs": true,
      "collapsed_sections": [],
      "authorship_tag": "ABX9TyMrdAxEiLs64cyz6E0ZMB/L",
      "include_colab_link": true
    },
    "kernelspec": {
      "name": "python3",
      "display_name": "Python 3"
    }
  },
  "cells": [
    {
      "cell_type": "markdown",
      "metadata": {
        "id": "view-in-github",
        "colab_type": "text"
      },
      "source": [
        "<a href=\"https://colab.research.google.com/github/Bernstein7z/ScientificProgrammingPython/blob/main/assignment01.ipynb\" target=\"_parent\"><img src=\"https://colab.research.google.com/assets/colab-badge.svg\" alt=\"Open In Colab\"/></a>"
      ]
    },
    {
      "cell_type": "markdown",
      "metadata": {
        "id": "D-e0AAatHUrd"
      },
      "source": [
        "# <center>Scientific Programming with Python\n",
        "# <center>*Assignment 1: Lennard-Jones Equation*\n",
        "---"
      ]
    },
    {
      "cell_type": "markdown",
      "metadata": {
        "id": "yD7UAP1VH9MX"
      },
      "source": [
        "## Task 1"
      ]
    },
    {
      "cell_type": "markdown",
      "metadata": {
        "id": "mumzJUAAIAGD"
      },
      "source": [
        "To solve the tasks in this course i think google colab would be a very good choise.<br>\n",
        "Personally i use for work and study PyCharm IDE from Jetbrains, but the way they handle jupyter notebooks is slow.<br>\n",
        "This was the main reason to choose google colab over PyCharm."
      ]
    },
    {
      "cell_type": "markdown",
      "metadata": {
        "id": "yxSEol5VIxFJ"
      },
      "source": [
        "## Task 2"
      ]
    },
    {
      "cell_type": "markdown",
      "metadata": {
        "id": "ZQcrsSMnJJLw"
      },
      "source": [
        "The following 6-12 Lennard-Jones function is to implemented with python:\n",
        "<br><br>\n",
        "$$V_{LJ}(r)=4\\epsilon \\left[ \\left( \\frac{\\sigma}{r} \\right)^{12} -  \\left( \\frac{\\sigma}{r} \\right)^6 \\right]$$\n",
        "<br>\n",
        "where $V_{LJ}(r)$ is the potential energy, $r$ is the distance between two particles, $\\epsilon$ is the negative of the potential energy at the equilibrium bond length, $\\sigma$ is the separation distance where the potential energy is zero.\n",
        "<br><br>\n",
        "The python code is shown below:\n"
      ]
    },
    {
      "cell_type": "code",
      "metadata": {
        "id": "f3gFMUN5HMLf"
      },
      "source": [
        "def lennard_jonas_argon(distance: float) -> float:\n",
        "    \"\"\"Calculate 6-12 Lennard-Jons function\n",
        "\n",
        "    The function calculate the potential energy of argon\n",
        "    regarding to distance between two particles.\n",
        "\n",
        "    Args:\n",
        "        distance: distance between two argon particel\n",
        "\n",
        "    Returns:\n",
        "        A float value representing the calculated potential energy\n",
        "    \"\"\"\n",
        "\n",
        "    # source: Rahman, A. Phys. Rev. 1964, 136 (2A), A405–A411\n",
        "    negativ_potential_energy = 0.0103\n",
        "    separation_distance = 3.4\n",
        "\n",
        "    fracture = separation_distance / distance\n",
        "    potential_energy = 4 * negativ_potential_energy * (fracture**12 - fracture**6)\n",
        "\n",
        "    return potential_energy\n",
        "    "
      ],
      "execution_count": null,
      "outputs": []
    },
    {
      "cell_type": "code",
      "metadata": {
        "id": "uKHckGvlP9hQ"
      },
      "source": [
        "lennard_jonas_argon(7.65)"
      ],
      "execution_count": null,
      "outputs": []
    },
    {
      "cell_type": "markdown",
      "metadata": {
        "id": "2dJfZvaWT7wN"
      },
      "source": [
        "A very quick validation is the check of function output with the given example in Rahman paper:\n",
        "<br>\n",
        "For $r = 2.25\\sigma$ the potential energy is $\\sim -0.03\\epsilon$.\n",
        "<br>\n",
        "If distance paramter of lennard_jonas_argon function is $2.25*3.4=7.65$ the output is $\\sim -0.0003150$ which is $\\sim -0.03\\epsilon$."
      ]
    },
    {
      "cell_type": "markdown",
      "metadata": {
        "id": "WXTlVWx6P2dg"
      },
      "source": [
        "## Task 3"
      ]
    },
    {
      "cell_type": "code",
      "metadata": {
        "id": "dzGHap5YP6Cc"
      },
      "source": [
        "import this"
      ],
      "execution_count": null,
      "outputs": []
    }
  ]
}